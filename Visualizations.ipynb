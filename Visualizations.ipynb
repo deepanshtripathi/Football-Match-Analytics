{
  "cells": [
    {
      "cell_type": "code",
      "execution_count": null,
      "id": "11163215",
      "metadata": {
        "id": "11163215"
      },
      "outputs": [],
      "source": [
        "import pandas as pd\n",
        "import numpy as np\n",
        "import matplotlib.pyplot as plt"
      ]
    },
    {
      "cell_type": "code",
      "execution_count": null,
      "id": "b1cb7a7e",
      "metadata": {
        "id": "b1cb7a7e",
        "outputId": "4cace7d3-0b97-4558-f585-cf05249b9cbe",
        "colab": {
          "base_uri": "https://localhost:8080/"
        }
      },
      "outputs": [
        {
          "output_type": "execute_result",
          "data": {
            "text/plain": [
              "18"
            ]
          },
          "metadata": {},
          "execution_count": 2
        }
      ],
      "source": [
        "# importing the dataset of all the seasons\n",
        "\n",
        "datasets=[] #list of all the datasets\n",
        "\n",
        "root=\"https://raw.githubusercontent.com/ramankumar-1/football-analytics/main/datasets/\"\n",
        "for i in range(0,18):\n",
        "    file_name=f\"20{i:02d}-{i+1:02d}.csv\"\n",
        "    datasets.append(pd.read_csv(root+file_name))\n",
        "\n",
        "len(datasets)"
      ]
    },
    {
      "cell_type": "code",
      "execution_count": null,
      "id": "e5e38c59",
      "metadata": {
        "id": "e5e38c59",
        "outputId": "12dee577-896f-4eb7-8b38-865fdd185e61"
      },
      "outputs": [
        {
          "data": {
            "text/html": [
              "<div>\n",
              "<style scoped>\n",
              "    .dataframe tbody tr th:only-of-type {\n",
              "        vertical-align: middle;\n",
              "    }\n",
              "\n",
              "    .dataframe tbody tr th {\n",
              "        vertical-align: top;\n",
              "    }\n",
              "\n",
              "    .dataframe thead th {\n",
              "        text-align: right;\n",
              "    }\n",
              "</style>\n",
              "<table border=\"1\" class=\"dataframe\">\n",
              "  <thead>\n",
              "    <tr style=\"text-align: right;\">\n",
              "      <th></th>\n",
              "      <th>Div</th>\n",
              "      <th>Date</th>\n",
              "      <th>HomeTeam</th>\n",
              "      <th>AwayTeam</th>\n",
              "      <th>FTHG</th>\n",
              "      <th>FTAG</th>\n",
              "      <th>FTR</th>\n",
              "      <th>HTHG</th>\n",
              "      <th>HTAG</th>\n",
              "      <th>HTR</th>\n",
              "      <th>...</th>\n",
              "      <th>HST</th>\n",
              "      <th>AST</th>\n",
              "      <th>HC</th>\n",
              "      <th>AC</th>\n",
              "      <th>HF</th>\n",
              "      <th>AF</th>\n",
              "      <th>HY</th>\n",
              "      <th>AY</th>\n",
              "      <th>HR</th>\n",
              "      <th>AR</th>\n",
              "    </tr>\n",
              "  </thead>\n",
              "  <tbody>\n",
              "    <tr>\n",
              "      <th>0</th>\n",
              "      <td>E0</td>\n",
              "      <td>19/08/00</td>\n",
              "      <td>Charlton</td>\n",
              "      <td>Man City</td>\n",
              "      <td>4</td>\n",
              "      <td>0</td>\n",
              "      <td>H</td>\n",
              "      <td>2</td>\n",
              "      <td>0</td>\n",
              "      <td>H</td>\n",
              "      <td>...</td>\n",
              "      <td>14</td>\n",
              "      <td>4</td>\n",
              "      <td>6</td>\n",
              "      <td>6</td>\n",
              "      <td>13</td>\n",
              "      <td>12</td>\n",
              "      <td>1</td>\n",
              "      <td>2</td>\n",
              "      <td>0</td>\n",
              "      <td>0</td>\n",
              "    </tr>\n",
              "    <tr>\n",
              "      <th>1</th>\n",
              "      <td>E0</td>\n",
              "      <td>19/08/00</td>\n",
              "      <td>Chelsea</td>\n",
              "      <td>West Ham</td>\n",
              "      <td>4</td>\n",
              "      <td>2</td>\n",
              "      <td>H</td>\n",
              "      <td>1</td>\n",
              "      <td>0</td>\n",
              "      <td>H</td>\n",
              "      <td>...</td>\n",
              "      <td>10</td>\n",
              "      <td>5</td>\n",
              "      <td>7</td>\n",
              "      <td>7</td>\n",
              "      <td>19</td>\n",
              "      <td>14</td>\n",
              "      <td>1</td>\n",
              "      <td>2</td>\n",
              "      <td>0</td>\n",
              "      <td>0</td>\n",
              "    </tr>\n",
              "    <tr>\n",
              "      <th>2</th>\n",
              "      <td>E0</td>\n",
              "      <td>19/08/00</td>\n",
              "      <td>Coventry</td>\n",
              "      <td>Middlesbrough</td>\n",
              "      <td>1</td>\n",
              "      <td>3</td>\n",
              "      <td>A</td>\n",
              "      <td>1</td>\n",
              "      <td>1</td>\n",
              "      <td>D</td>\n",
              "      <td>...</td>\n",
              "      <td>3</td>\n",
              "      <td>9</td>\n",
              "      <td>8</td>\n",
              "      <td>4</td>\n",
              "      <td>15</td>\n",
              "      <td>21</td>\n",
              "      <td>5</td>\n",
              "      <td>3</td>\n",
              "      <td>1</td>\n",
              "      <td>0</td>\n",
              "    </tr>\n",
              "    <tr>\n",
              "      <th>3</th>\n",
              "      <td>E0</td>\n",
              "      <td>19/08/00</td>\n",
              "      <td>Derby</td>\n",
              "      <td>Southampton</td>\n",
              "      <td>2</td>\n",
              "      <td>2</td>\n",
              "      <td>D</td>\n",
              "      <td>1</td>\n",
              "      <td>2</td>\n",
              "      <td>A</td>\n",
              "      <td>...</td>\n",
              "      <td>4</td>\n",
              "      <td>6</td>\n",
              "      <td>5</td>\n",
              "      <td>8</td>\n",
              "      <td>11</td>\n",
              "      <td>13</td>\n",
              "      <td>1</td>\n",
              "      <td>1</td>\n",
              "      <td>0</td>\n",
              "      <td>0</td>\n",
              "    </tr>\n",
              "    <tr>\n",
              "      <th>4</th>\n",
              "      <td>E0</td>\n",
              "      <td>19/08/00</td>\n",
              "      <td>Leeds</td>\n",
              "      <td>Everton</td>\n",
              "      <td>2</td>\n",
              "      <td>0</td>\n",
              "      <td>H</td>\n",
              "      <td>2</td>\n",
              "      <td>0</td>\n",
              "      <td>H</td>\n",
              "      <td>...</td>\n",
              "      <td>8</td>\n",
              "      <td>6</td>\n",
              "      <td>6</td>\n",
              "      <td>4</td>\n",
              "      <td>21</td>\n",
              "      <td>20</td>\n",
              "      <td>1</td>\n",
              "      <td>3</td>\n",
              "      <td>0</td>\n",
              "      <td>0</td>\n",
              "    </tr>\n",
              "    <tr>\n",
              "      <th>...</th>\n",
              "      <td>...</td>\n",
              "      <td>...</td>\n",
              "      <td>...</td>\n",
              "      <td>...</td>\n",
              "      <td>...</td>\n",
              "      <td>...</td>\n",
              "      <td>...</td>\n",
              "      <td>...</td>\n",
              "      <td>...</td>\n",
              "      <td>...</td>\n",
              "      <td>...</td>\n",
              "      <td>...</td>\n",
              "      <td>...</td>\n",
              "      <td>...</td>\n",
              "      <td>...</td>\n",
              "      <td>...</td>\n",
              "      <td>...</td>\n",
              "      <td>...</td>\n",
              "      <td>...</td>\n",
              "      <td>...</td>\n",
              "      <td>...</td>\n",
              "    </tr>\n",
              "    <tr>\n",
              "      <th>6835</th>\n",
              "      <td>E0</td>\n",
              "      <td>13/05/18</td>\n",
              "      <td>Newcastle</td>\n",
              "      <td>Chelsea</td>\n",
              "      <td>3</td>\n",
              "      <td>0</td>\n",
              "      <td>H</td>\n",
              "      <td>1</td>\n",
              "      <td>0</td>\n",
              "      <td>H</td>\n",
              "      <td>...</td>\n",
              "      <td>6</td>\n",
              "      <td>2</td>\n",
              "      <td>4</td>\n",
              "      <td>2</td>\n",
              "      <td>11</td>\n",
              "      <td>10</td>\n",
              "      <td>0</td>\n",
              "      <td>1</td>\n",
              "      <td>0</td>\n",
              "      <td>0</td>\n",
              "    </tr>\n",
              "    <tr>\n",
              "      <th>6836</th>\n",
              "      <td>E0</td>\n",
              "      <td>13/05/18</td>\n",
              "      <td>Southampton</td>\n",
              "      <td>Man City</td>\n",
              "      <td>0</td>\n",
              "      <td>1</td>\n",
              "      <td>A</td>\n",
              "      <td>0</td>\n",
              "      <td>0</td>\n",
              "      <td>D</td>\n",
              "      <td>...</td>\n",
              "      <td>3</td>\n",
              "      <td>2</td>\n",
              "      <td>1</td>\n",
              "      <td>12</td>\n",
              "      <td>8</td>\n",
              "      <td>10</td>\n",
              "      <td>3</td>\n",
              "      <td>1</td>\n",
              "      <td>0</td>\n",
              "      <td>0</td>\n",
              "    </tr>\n",
              "    <tr>\n",
              "      <th>6837</th>\n",
              "      <td>E0</td>\n",
              "      <td>13/05/18</td>\n",
              "      <td>Swansea</td>\n",
              "      <td>Stoke</td>\n",
              "      <td>1</td>\n",
              "      <td>2</td>\n",
              "      <td>A</td>\n",
              "      <td>1</td>\n",
              "      <td>2</td>\n",
              "      <td>A</td>\n",
              "      <td>...</td>\n",
              "      <td>11</td>\n",
              "      <td>5</td>\n",
              "      <td>6</td>\n",
              "      <td>0</td>\n",
              "      <td>12</td>\n",
              "      <td>9</td>\n",
              "      <td>1</td>\n",
              "      <td>2</td>\n",
              "      <td>0</td>\n",
              "      <td>0</td>\n",
              "    </tr>\n",
              "    <tr>\n",
              "      <th>6838</th>\n",
              "      <td>E0</td>\n",
              "      <td>13/05/18</td>\n",
              "      <td>Tottenham</td>\n",
              "      <td>Leicester</td>\n",
              "      <td>5</td>\n",
              "      <td>4</td>\n",
              "      <td>H</td>\n",
              "      <td>1</td>\n",
              "      <td>2</td>\n",
              "      <td>A</td>\n",
              "      <td>...</td>\n",
              "      <td>6</td>\n",
              "      <td>9</td>\n",
              "      <td>4</td>\n",
              "      <td>4</td>\n",
              "      <td>9</td>\n",
              "      <td>13</td>\n",
              "      <td>1</td>\n",
              "      <td>2</td>\n",
              "      <td>0</td>\n",
              "      <td>0</td>\n",
              "    </tr>\n",
              "    <tr>\n",
              "      <th>6839</th>\n",
              "      <td>E0</td>\n",
              "      <td>13/05/18</td>\n",
              "      <td>West Ham</td>\n",
              "      <td>Everton</td>\n",
              "      <td>3</td>\n",
              "      <td>1</td>\n",
              "      <td>H</td>\n",
              "      <td>1</td>\n",
              "      <td>0</td>\n",
              "      <td>H</td>\n",
              "      <td>...</td>\n",
              "      <td>4</td>\n",
              "      <td>7</td>\n",
              "      <td>6</td>\n",
              "      <td>6</td>\n",
              "      <td>10</td>\n",
              "      <td>13</td>\n",
              "      <td>0</td>\n",
              "      <td>1</td>\n",
              "      <td>0</td>\n",
              "      <td>0</td>\n",
              "    </tr>\n",
              "  </tbody>\n",
              "</table>\n",
              "<p>6840 rows × 23 columns</p>\n",
              "</div>"
            ],
            "text/plain": [
              "     Div      Date     HomeTeam       AwayTeam  FTHG  FTAG FTR  HTHG  HTAG  \\\n",
              "0     E0  19/08/00     Charlton       Man City     4     0   H     2     0   \n",
              "1     E0  19/08/00      Chelsea       West Ham     4     2   H     1     0   \n",
              "2     E0  19/08/00     Coventry  Middlesbrough     1     3   A     1     1   \n",
              "3     E0  19/08/00        Derby    Southampton     2     2   D     1     2   \n",
              "4     E0  19/08/00        Leeds        Everton     2     0   H     2     0   \n",
              "...   ..       ...          ...            ...   ...   ...  ..   ...   ...   \n",
              "6835  E0  13/05/18    Newcastle        Chelsea     3     0   H     1     0   \n",
              "6836  E0  13/05/18  Southampton       Man City     0     1   A     0     0   \n",
              "6837  E0  13/05/18      Swansea          Stoke     1     2   A     1     2   \n",
              "6838  E0  13/05/18    Tottenham      Leicester     5     4   H     1     2   \n",
              "6839  E0  13/05/18     West Ham        Everton     3     1   H     1     0   \n",
              "\n",
              "     HTR  ... HST  AST  HC  AC  HF  AF  HY  AY  HR  AR  \n",
              "0      H  ...  14    4   6   6  13  12   1   2   0   0  \n",
              "1      H  ...  10    5   7   7  19  14   1   2   0   0  \n",
              "2      D  ...   3    9   8   4  15  21   5   3   1   0  \n",
              "3      A  ...   4    6   5   8  11  13   1   1   0   0  \n",
              "4      H  ...   8    6   6   4  21  20   1   3   0   0  \n",
              "...   ..  ...  ..  ...  ..  ..  ..  ..  ..  ..  ..  ..  \n",
              "6835   H  ...   6    2   4   2  11  10   0   1   0   0  \n",
              "6836   D  ...   3    2   1  12   8  10   3   1   0   0  \n",
              "6837   A  ...  11    5   6   0  12   9   1   2   0   0  \n",
              "6838   A  ...   6    9   4   4   9  13   1   2   0   0  \n",
              "6839   H  ...   4    7   6   6  10  13   0   1   0   0  \n",
              "\n",
              "[6840 rows x 23 columns]"
            ]
          },
          "execution_count": 3,
          "metadata": {},
          "output_type": "execute_result"
        }
      ],
      "source": [
        "#combining all the datasets\n",
        "df=pd.concat(datasets,ignore_index=True,join=\"inner\")\n",
        "df"
      ]
    },
    {
      "cell_type": "code",
      "execution_count": null,
      "id": "a9a987ec",
      "metadata": {
        "id": "a9a987ec",
        "outputId": "8f1004fe-38b0-4559-f9c5-335de0c30cb9"
      },
      "outputs": [
        {
          "data": {
            "text/plain": [
              "Div         0\n",
              "Date        0\n",
              "HomeTeam    0\n",
              "AwayTeam    0\n",
              "FTHG        0\n",
              "FTAG        0\n",
              "FTR         0\n",
              "HTHG        0\n",
              "HTAG        0\n",
              "HTR         0\n",
              "Referee     0\n",
              "HS          0\n",
              "AS          0\n",
              "HST         0\n",
              "AST         0\n",
              "HC          0\n",
              "AC          0\n",
              "HF          0\n",
              "AF          0\n",
              "HY          0\n",
              "AY          0\n",
              "HR          0\n",
              "AR          0\n",
              "dtype: int64"
            ]
          },
          "execution_count": 4,
          "metadata": {},
          "output_type": "execute_result"
        }
      ],
      "source": [
        "# data preprocessing\n",
        "\n",
        "df.isna().sum() # We can the data is fully clean"
      ]
    },
    {
      "cell_type": "code",
      "execution_count": null,
      "id": "171b4591",
      "metadata": {
        "id": "171b4591",
        "outputId": "774d8baf-9e22-440f-c613-ad07374b540f"
      },
      "outputs": [
        {
          "name": "stdout",
          "output_type": "stream",
          "text": [
            "3176 1913 1751\n"
          ]
        }
      ],
      "source": [
        "home_win_count=0\n",
        "away_win_count=0\n",
        "draw_count=0\n",
        "\n",
        "for i in range(len(df)):\n",
        "    if df.iloc[i].FTHG > df.iloc[i].FTAG:\n",
        "        home_win_count+=1\n",
        "    if df.iloc[i].FTHG < df.iloc[i].FTAG:\n",
        "        away_win_count+=1\n",
        "\n",
        "\n",
        "draw_count=len(df)-(home_win_count+away_win_count)\n",
        "print(home_win_count,away_win_count,draw_count)"
      ]
    },
    {
      "cell_type": "code",
      "execution_count": null,
      "id": "6ba23214",
      "metadata": {
        "id": "6ba23214",
        "outputId": "0958530c-56c3-44bc-878e-053dcac654f6"
      },
      "outputs": [
        {
          "data": {
            "text/plain": [
              "([<matplotlib.patches.Wedge at 0x1e56f254b80>,\n",
              "  <matplotlib.patches.Wedge at 0x1e56f255060>,\n",
              "  <matplotlib.patches.Wedge at 0x1e56f255780>],\n",
              " [Text(0.12301748323114213, 1.0930995832125616, \"Home Team's Win\"),\n",
              "  Text(-0.8726886534216935, -0.6696375991452626, \"Away Team's Win\"),\n",
              "  Text(0.763033220288598, -0.792325882914355, 'Match Tie')],\n",
              " [Text(0.06710044539880479, 0.5962361362977607, '46.4%'),\n",
              "  Text(-0.47601199277546913, -0.3652568722610523, '28.0%'),\n",
              "  Text(0.41619993833923524, -0.43217775431692085, '25.6%')])"
            ]
          },
          "execution_count": 6,
          "metadata": {},
          "output_type": "execute_result"
        },
        {
          "data": {
            "image/png": "[encoded data removed]",
            "text/plain": [
              "<Figure size 432x288 with 1 Axes>"
            ]
          },
          "metadata": {},
          "output_type": "display_data"
        }
      ],
      "source": [
        "# Data Visualization\n",
        "\n",
        "labels=[\"Home Team's Win\",\"Away Team's Win\",\"Match Tie\"]\n",
        "sizes=[home_win_count,away_win_count,draw_count]\n",
        "\n",
        "fig, ax = plt.subplots()\n",
        "ax.pie(sizes, labels=labels, autopct='%1.1f%%')"
      ]
    },
    {
      "cell_type": "code",
      "execution_count": null,
      "id": "cc9649b9",
      "metadata": {
        "id": "cc9649b9",
        "outputId": "53422d29-a2c6-4466-9295-d6de7d23437d"
      },
      "outputs": [
        {
          "data": {
            "text/plain": [
              "([<matplotlib.patches.Wedge at 0x15e84b65b70>,\n",
              "  <matplotlib.patches.Wedge at 0x15e84b661d0>],\n",
              " [Text(-0.2558794599038702, 1.069825080094547, 'Home Team Goals'),\n",
              "  Text(0.25587945990386957, -1.069825080094547, 'Away Team Goals')],\n",
              " [Text(-0.13957061449302008, 0.5835409527788438, '57.5%'),\n",
              "  Text(0.13957061449301975, -0.5835409527788438, '42.5%')])"
            ]
          },
          "execution_count": 9,
          "metadata": {},
          "output_type": "execute_result"
        },
        {
          "data": {
            "image/png": "[encoded data removed]",
            "text/plain": [
              "<Figure size 432x288 with 1 Axes>"
            ]
          },
          "metadata": {},
          "output_type": "display_data"
        }
      ],
      "source": [
        "# Goals Home vs Away teams\n",
        "\n",
        "labels=[\"Home Team Goals\",\"Away Team Goals\"]\n",
        "sizes=[sum(df.FTHG),sum(df.FTAG)]\n",
        "\n",
        "fig, ax = plt.subplots()\n",
        "ax.pie(sizes, labels=labels, autopct='%1.1f%%')\n"
      ]
    },
    {
      "cell_type": "code",
      "execution_count": null,
      "id": "7fe4cd9f",
      "metadata": {
        "id": "7fe4cd9f",
        "outputId": "6a170ecd-f4b8-4240-9abe-3551d912f93a"
      },
      "outputs": [
        {
          "data": {
            "text/plain": [
              "{4: 679, 3: 1637, 2: 2584, 1: 1628, 5: 212, 6: 77, 7: 16, 8: 6, 9: 1}"
            ]
          },
          "execution_count": 9,
          "metadata": {},
          "output_type": "execute_result"
        }
      ],
      "source": [
        "goals_freq={}\n",
        "\n",
        "for i in range(len(df)):\n",
        "    if df.FTHG[i]>df.FTAG[i]:\n",
        "        winner_goal=df.FTHG[i]\n",
        "    if df.FTAG[i]>df.FTHG[i]:\n",
        "        winner_goal=df.FTAG[i]\n",
        "    if winner_goal in list(goals_freq.keys()):\n",
        "        goals_freq[winner_goal]+=1\n",
        "    else:\n",
        "        goals_freq[winner_goal]=1\n",
        "\n",
        "goals_freq"
      ]
    },
    {
      "cell_type": "code",
      "execution_count": null,
      "id": "91c702d8",
      "metadata": {
        "id": "91c702d8",
        "outputId": "eb1458ab-f730-47d5-a715-6841304d54d5"
      },
      "outputs": [
        {
          "data": {
            "text/plain": [
              "<BarContainer object of 9 artists>"
            ]
          },
          "execution_count": 11,
          "metadata": {},
          "output_type": "execute_result"
        },
        {
          "data": {
            "image/png": "[encoded data removed]",
            "text/plain": [
              "<Figure size 432x288 with 1 Axes>"
            ]
          },
          "metadata": {
            "needs_background": "light"
          },
          "output_type": "display_data"
        }
      ],
      "source": [
        "plt.title(\"Goals Scored by winning team\")\n",
        "plt.xlabel(\"Number of Goals\")\n",
        "plt.ylabel(\"Frequency\")\n",
        "plt.bar(list(goals_freq.keys()),list(goals_freq.values()))"
      ]
    },
    {
      "cell_type": "code",
      "execution_count": null,
      "id": "cf85ce57",
      "metadata": {
        "id": "cf85ce57",
        "outputId": "d5bb64ba-7c12-4a8c-e677-bf10e94f3dc8"
      },
      "outputs": [
        {
          "data": {
            "text/plain": [
              "[(1, 1628),\n",
              " (2, 2584),\n",
              " (3, 1637),\n",
              " (4, 679),\n",
              " (5, 212),\n",
              " (6, 77),\n",
              " (7, 16),\n",
              " (8, 6),\n",
              " (9, 1)]"
            ]
          },
          "execution_count": 89,
          "metadata": {},
          "output_type": "execute_result"
        }
      ],
      "source": [
        "goals_freq"
      ]
    },
    {
      "cell_type": "code",
      "execution_count": null,
      "id": "00e42229",
      "metadata": {
        "id": "00e42229",
        "outputId": "24cc4383-df0a-4bde-ab8f-82d8e15378d7"
      },
      "outputs": [
        {
          "data": {
            "text/plain": [
              "{4: 264, 2: 1455, 0: 1751, 1: 2587, 3: 653, 6: 29, 5: 92, 7: 5, 8: 4}"
            ]
          },
          "execution_count": 6,
          "metadata": {},
          "output_type": "execute_result"
        }
      ],
      "source": [
        "diff_freq={}\n",
        "\n",
        "for i in range(len(df)):\n",
        "    diff=abs(df.FTHG[i]-df.FTAG[i])\n",
        "    if diff in list(diff_freq.keys()):\n",
        "        diff_freq[diff]+=1\n",
        "    else:\n",
        "        diff_freq[diff]=1\n",
        "\n",
        "diff_freq"
      ]
    },
    {
      "cell_type": "code",
      "execution_count": null,
      "id": "b0069016",
      "metadata": {
        "id": "b0069016",
        "outputId": "b0538429-1e19-4b46-dec7-569f47f5e4f0"
      },
      "outputs": [
        {
          "data": {
            "text/plain": [
              "<BarContainer object of 9 artists>"
            ]
          },
          "execution_count": 7,
          "metadata": {},
          "output_type": "execute_result"
        },
        {
          "data": {
            "image/png": "[encoded data removed]",
            "text/plain": [
              "<Figure size 1008x504 with 1 Axes>"
            ]
          },
          "metadata": {
            "needs_background": "light"
          },
          "output_type": "display_data"
        }
      ],
      "source": [
        "plt.figure(figsize=(14,7))\n",
        "plt.xlabel(\"Goal Difference\")\n",
        "plt.ylabel(\"Frequency\")\n",
        "plt.bar(list(diff_freq.keys()),list(diff_freq.values()))"
      ]
    },
    {
      "cell_type": "code",
      "execution_count": null,
      "id": "c2d115dc",
      "metadata": {
        "id": "c2d115dc",
        "outputId": "70c88c7c-515e-44cc-ca23-a30f4f286c6a"
      },
      "outputs": [
        {
          "data": {
            "text/plain": [
              "{'Man United': 573,\n",
              " 'Chelsea': 545,\n",
              " 'Arsenal': 526,\n",
              " 'Liverpool': 461,\n",
              " 'Tottenham': 430,\n",
              " 'Man City': 417,\n",
              " 'Everton': 351,\n",
              " 'Newcastle': 299,\n",
              " 'Aston Villa': 264,\n",
              " 'West Ham': 263,\n",
              " 'Fulham': 195,\n",
              " 'Bolton': 189,\n",
              " 'Blackburn': 187,\n",
              " 'Southampton': 177,\n",
              " 'Sunderland': 170,\n",
              " 'Stoke': 161,\n",
              " 'West Brom': 140,\n",
              " 'Middlesbrough': 132,\n",
              " 'Swansea': 122,\n",
              " 'Portsmouth': 109,\n",
              " 'Wigan': 109,\n",
              " 'Charlton': 104,\n",
              " 'Leicester': 102,\n",
              " 'Birmingham': 102,\n",
              " 'Crystal Palace': 86,\n",
              " 'Leeds': 76,\n",
              " 'Watford': 62,\n",
              " 'Norwich': 58,\n",
              " 'Burnley': 56,\n",
              " 'Wolves': 54,\n",
              " 'Hull': 51,\n",
              " 'Bournemouth': 44,\n",
              " 'Reading': 43,\n",
              " 'Ipswich': 40,\n",
              " 'QPR': 30,\n",
              " 'Derby': 25,\n",
              " 'Middlesboro': 16,\n",
              " 'Brighton': 13,\n",
              " 'Coventry': 12,\n",
              " 'Blackpool': 12,\n",
              " 'Sheffield United': 10,\n",
              " 'Huddersfield': 9,\n",
              " 'Cardiff': 8,\n",
              " 'Bradford': 7}"
            ]
          },
          "execution_count": 21,
          "metadata": {},
          "output_type": "execute_result"
        }
      ],
      "source": [
        "# No. of Wins per team\n",
        "\n",
        "team_win_freq={}\n",
        "\n",
        "for i in range(len(df)):\n",
        "    if df.FTHG[i]>df.FTAG[i]:\n",
        "        winner=df.HomeTeam[i]\n",
        "    if df.FTAG[i]>df.FTHG[i]:\n",
        "        winner=df.AwayTeam[i]\n",
        "    if winner in list(team_win_freq.keys()):\n",
        "        team_win_freq[winner]+=1\n",
        "    else:\n",
        "        team_win_freq[winner]=1\n",
        "\n",
        "team_win_freq=dict(sorted(team_win_freq.items(), key=lambda x:x[1],reverse=True))\n",
        "team_win_freq\n",
        "\n",
        "# We can see that Manchester United is the most successful team"
      ]
    },
    {
      "cell_type": "code",
      "execution_count": null,
      "id": "b991da8c",
      "metadata": {
        "id": "b991da8c",
        "outputId": "392b1f5b-d13f-4d89-8ca8-e2ff0b935e8b"
      },
      "outputs": [
        {
          "data": {
            "text/plain": [
              "<BarContainer object of 10 artists>"
            ]
          },
          "execution_count": 26,
          "metadata": {},
          "output_type": "execute_result"
        },
        {
          "data": {
            "image/png": "[encoded data removed]",
            "text/plain": [
              "<Figure size 1008x504 with 1 Axes>"
            ]
          },
          "metadata": {
            "needs_background": "light"
          },
          "output_type": "display_data"
        }
      ],
      "source": [
        "plt.figure(figsize=(14,7))\n",
        "plt.xlabel(\"Team\")\n",
        "plt.ylabel(\"No. of Wins\")\n",
        "plt.bar(list(team_win_freq.keys())[:10],list(team_win_freq.values())[:10])"
      ]
    },
    {
      "cell_type": "code",
      "execution_count": null,
      "id": "7b695e97",
      "metadata": {
        "id": "7b695e97",
        "outputId": "cbd58496-1ecc-4984-8f52-f49b3cdf9793"
      },
      "outputs": [
        {
          "data": {
            "text/plain": [
              "{'Sunderland': 351,\n",
              " 'West Ham': 331,\n",
              " 'Newcastle': 322,\n",
              " 'Aston Villa': 314,\n",
              " 'Everton': 312,\n",
              " 'West Brom': 302,\n",
              " 'Fulham': 279,\n",
              " 'Tottenham': 277,\n",
              " 'Man City': 247,\n",
              " 'Blackburn': 227,\n",
              " 'Bolton': 227,\n",
              " 'Southampton': 216,\n",
              " 'Liverpool': 213,\n",
              " 'Stoke': 198,\n",
              " 'Wigan': 195,\n",
              " 'Middlesbrough': 193,\n",
              " 'Arsenal': 169,\n",
              " 'Charlton': 165,\n",
              " 'Swansea': 163,\n",
              " 'Portsmouth': 162,\n",
              " 'Chelsea': 160,\n",
              " 'Man United': 153,\n",
              " 'Leicester': 146,\n",
              " 'Birmingham': 145,\n",
              " 'Crystal Palace': 141,\n",
              " 'Hull': 135,\n",
              " 'Norwich': 132,\n",
              " 'Wolves': 111,\n",
              " 'Burnley': 102,\n",
              " 'Watford': 95,\n",
              " 'Derby': 92,\n",
              " 'QPR': 88,\n",
              " 'Leeds': 82,\n",
              " 'Reading': 74,\n",
              " 'Bournemouth': 69,\n",
              " 'Ipswich': 46,\n",
              " 'Coventry': 32,\n",
              " 'Sheffield United': 29,\n",
              " 'Cardiff': 29,\n",
              " 'Bradford': 28,\n",
              " 'Blackpool': 25,\n",
              " 'Huddersfield': 25,\n",
              " 'Middlesboro': 19,\n",
              " 'Brighton': 19}"
            ]
          },
          "execution_count": 29,
          "metadata": {},
          "output_type": "execute_result"
        }
      ],
      "source": [
        "# No. of Losses per team\n",
        "\n",
        "team_loss_freq={}\n",
        "\n",
        "for i in range(len(df)):\n",
        "    if df.FTHG[i]<df.FTAG[i]:\n",
        "        loser=df.HomeTeam[i]\n",
        "    if df.FTAG[i]<df.FTHG[i]:\n",
        "        loser=df.AwayTeam[i]\n",
        "    if loser in list(team_loss_freq.keys()):\n",
        "        team_loss_freq[loser]+=1\n",
        "    else:\n",
        "        team_loss_freq[loser]=1\n",
        "\n",
        "team_loss_freq=dict(sorted(team_loss_freq.items(), key=lambda x:x[1],reverse=True))\n",
        "team_loss_freq\n",
        "\n",
        "# We can see that Sunderland is the worst performing team"
      ]
    },
    {
      "cell_type": "code",
      "execution_count": null,
      "id": "c337d0d7",
      "metadata": {
        "id": "c337d0d7",
        "outputId": "5019c52f-4e1a-4bb0-ebf0-6f5a28b05b82"
      },
      "outputs": [
        {
          "data": {
            "text/plain": [
              "<BarContainer object of 10 artists>"
            ]
          },
          "execution_count": 34,
          "metadata": {},
          "output_type": "execute_result"
        },
        {
          "data": {
            "image/png": "[encoded data removed]",
            "text/plain": [
              "<Figure size 1008x504 with 1 Axes>"
            ]
          },
          "metadata": {
            "needs_background": "light"
          },
          "output_type": "display_data"
        }
      ],
      "source": [
        "plt.figure(figsize=(14,7))\n",
        "plt.xlabel(\"Team\")\n",
        "plt.ylabel(\"No. of Losses\")\n",
        "plt.bar(list(team_loss_freq.keys())[:10],list(team_loss_freq.values())[:10], color=\"red\")"
      ]
    },
    {
      "cell_type": "code",
      "execution_count": null,
      "id": "730bbaad",
      "metadata": {
        "id": "730bbaad",
        "outputId": "f1dead83-6dab-41f6-faae-77352dfbc0d2"
      },
      "outputs": [
        {
          "data": {
            "text/plain": [
              "([<matplotlib.patches.Wedge at 0x1e571f77c70>,\n",
              "  <matplotlib.patches.Wedge at 0x1e571f9c310>],\n",
              " [Text(-0.2156552152292165, 1.0786532474082857, 'Home Team Shots'),\n",
              "  Text(0.2156552152292166, -1.0786532474082857, 'Away Team Shots')],\n",
              " [Text(-0.11763011739775443, 0.5883563167681558, '56.3%'),\n",
              "  Text(0.1176301173977545, -0.5883563167681558, '43.7%')])"
            ]
          },
          "execution_count": 14,
          "metadata": {},
          "output_type": "execute_result"
        },
        {
          "data": {
            "image/png": "[encoded data removed]",
            "text/plain": [
              "<Figure size 432x288 with 1 Axes>"
            ]
          },
          "metadata": {},
          "output_type": "display_data"
        }
      ],
      "source": [
        "# No. of Home Team shots vs Away team shots\n",
        "\n",
        "labels=[\"Home Team Shots\",\"Away Team Shots\"]\n",
        "sizes=[sum(df.HS),sum(df.AS)]\n",
        "\n",
        "fig, ax = plt.subplots()\n",
        "ax.pie(sizes, labels=labels, autopct='%1.1f%%')"
      ]
    },
    {
      "cell_type": "code",
      "execution_count": null,
      "id": "cea00a8a",
      "metadata": {
        "id": "cea00a8a",
        "outputId": "fe8ddeb3-edf4-4981-a16c-5e588d57bf3c"
      },
      "outputs": [
        {
          "data": {
            "text/plain": [
              "([<matplotlib.patches.Wedge at 0x1e57391e3b0>,\n",
              "  <matplotlib.patches.Wedge at 0x1e57391ea70>],\n",
              " [Text(0.04328928347125159, 1.0991478690042327, 'Home Team Fouls'),\n",
              "  Text(-0.04328928347125172, -1.0991478690042327, 'Away Team Fouls')],\n",
              " [Text(0.0236123364388645, 0.5995352012750359, '48.7%'),\n",
              "  Text(-0.023612336438864574, -0.5995352012750359, '51.3%')])"
            ]
          },
          "execution_count": 19,
          "metadata": {},
          "output_type": "execute_result"
        },
        {
          "data": {
            "image/png": "[encoded data removed]",
            "text/plain": [
              "<Figure size 432x288 with 1 Axes>"
            ]
          },
          "metadata": {},
          "output_type": "display_data"
        }
      ],
      "source": [
        "# No. of Home Team Fouls vs Away team Fouls\n",
        "\n",
        "labels=[\"Home Team Fouls\",\"Away Team Fouls\"]\n",
        "sizes=[sum(df.HF),sum(df.AF)]\n",
        "\n",
        "fig, ax = plt.subplots()\n",
        "ax.pie(sizes, labels=labels, autopct='%1.1f%%')"
      ]
    },
    {
      "cell_type": "code",
      "execution_count": null,
      "id": "5e6a6a00",
      "metadata": {
        "id": "5e6a6a00",
        "outputId": "12a08b6b-b407-4e75-ff49-ce32d9eb121a"
      },
      "outputs": [
        {
          "data": {
            "image/png": "[encoded data removed]",
            "text/plain": [
              "<Figure size 432x288 with 1 Axes>"
            ]
          },
          "metadata": {
            "needs_background": "light"
          },
          "output_type": "display_data"
        }
      ],
      "source": [
        "#\n",
        "\n",
        "X = ['Home Team','Away Team']\n",
        "home_win_fouls=df.HF[df.FTHG>df.FTAG].sum()\n",
        "home_loss_fouls=df.HF[df.FTAG>df.FTHG].sum()\n",
        "away_win_fouls=df.AF[df.FTAG>df.FTHG].sum()\n",
        "away_loss_fouls=df.AF[df.FTHG>df.FTAG].sum()\n",
        "\n",
        "X_axis = np.arange(len(X))\n",
        "\n",
        "plt.bar(X_axis-0.2, [home_win_fouls,away_win_fouls], 0.4, label = 'Winner')\n",
        "plt.bar(X_axis+0.2, [home_loss_fouls,away_loss_fouls] , 0.4, label = 'Loser')\n",
        "\n",
        "plt.xticks(X_axis, X)\n",
        "plt.ylabel(\"Number of Fouls\")\n",
        "plt.legend()\n",
        "plt.show()"
      ]
    },
    {
      "cell_type": "code",
      "execution_count": null,
      "id": "087e58c4",
      "metadata": {
        "id": "087e58c4",
        "outputId": "7e06396f-971e-4e8d-cf22-41cd805a66f0"
      },
      "outputs": [
        {
          "data": {
            "text/plain": [
              "[35995, 22402, 22772, 38591]"
            ]
          },
          "execution_count": 25,
          "metadata": {},
          "output_type": "execute_result"
        }
      ],
      "source": [
        "[home_win_fouls,home_loss_fouls,away_win_fouls,away_loss_fouls]"
      ]
    }
  ],
  "metadata": {
    "kernelspec": {
      "display_name": "Python 3 (ipykernel)",
      "language": "python",
      "name": "python3"
    },
    "language_info": {
      "codemirror_mode": {
        "name": "ipython",
        "version": 3
      },
      "file_extension": ".py",
      "mimetype": "text/x-python",
      "name": "python",
      "nbconvert_exporter": "python",
      "pygments_lexer": "ipython3",
      "version": "3.10.7"
    },
    "colab": {
      "provenance": []
    }
  },
  "nbformat": 4,
  "nbformat_minor": 5
}